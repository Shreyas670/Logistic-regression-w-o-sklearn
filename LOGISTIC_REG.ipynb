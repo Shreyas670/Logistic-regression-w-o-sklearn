{
 "cells": [
  {
   "cell_type": "code",
   "execution_count": 13,
   "metadata": {},
   "outputs": [],
   "source": [
    "import pandas as pd\n",
    "import numpy as np\n",
    "import matplotlib.pyplot as plt\n",
    "import seaborn as sns"
   ]
  },
  {
   "cell_type": "markdown",
   "metadata": {},
   "source": [
    "# IMPORTING DATA SETS "
   ]
  },
  {
   "cell_type": "code",
   "execution_count": 19,
   "metadata": {},
   "outputs": [],
   "source": [
    "X=pd.read_csv('X.csv').values\n",
    "Y=pd.read_csv('Y.csv').values"
   ]
  },
  {
   "cell_type": "markdown",
   "metadata": {},
   "source": [
    "Splitting data"
   ]
  },
  {
   "cell_type": "code",
   "execution_count": 20,
   "metadata": {},
   "outputs": [],
   "source": [
    "from sklearn.model_selection import train_test_split\n",
    "X_train, X_test, y_train, y_test = train_test_split(X,Y, train_size=0.7,test_size=0.3,random_state=100)"
   ]
  },
  {
   "cell_type": "code",
   "execution_count": 23,
   "metadata": {},
   "outputs": [],
   "source": [
    "y_train = y_train.reshape(-1,1)"
   ]
  },
  {
   "cell_type": "markdown",
   "metadata": {},
   "source": [
    "# Performing Logistic Regression"
   ]
  },
  {
   "cell_type": "code",
   "execution_count": 24,
   "metadata": {},
   "outputs": [],
   "source": [
    "def hypothesis(x,b0,b1):  #eqn of line is y=b0+b1x\n",
    "    z=np.dot(x,b1)+b0     #matrix multiplication\n",
    "    return sigmoid(z)\n",
    "\n",
    "\n",
    "def sigmoid(z):\n",
    "    return 1.0/(1.0+np.exp(-1.0*z))\n",
    "\n",
    "            \n",
    "def error(y_true,x,b0,b1):    #error entropy function \n",
    "    err=0.0\n",
    "    m=x.shape[0]\n",
    "    for i in range(m):\n",
    "        y_pred=hypothesis(x[i],b0,b1)\n",
    "        err+=y_true[i]*np.log2(y_pred)+(1-y_true[i])*np.log2(1-y_pred)\n",
    "        \n",
    "    return -err/m\n",
    "            \n",
    "def get_grads(y_true,x,b0,b1):    #perfroms diff(b0) and diff(b1) to use in gradient descent\n",
    "    grad_b1=np.zeros(b1.shape)\n",
    "    grad_b0=0.0\n",
    "    m=x.shape[0]\n",
    "    for i in range(m):\n",
    "        y_pred=hypothesis(x[i],b0,b1)\n",
    "        grad_b1+=(y_true[i]-y_pred)*x[i]\n",
    "        grad_b0+=(y_true[i]-y_pred)\n",
    "    \n",
    "    grad_b1/=m\n",
    "    grad_b0/=m\n",
    "    \n",
    "    return grad_b0,grad_b1\n",
    "            \n",
    "\n",
    "def gradient_descent(y_true,x,b0,b1,learning_rate=0.1): #perform gradient descent to get new value of b0 b1 from previous values\n",
    "    #same as b1+=learn_rate*diff(b1)....but we perform diff(b1)*x in above function for ease to uderstand \n",
    "    grad_b0,grad_b1=get_grads(y_true,x,b0,b1)\n",
    "    b0=b0+learning_rate*grad_b0\n",
    "    b1=b1+learning_rate*grad_b1\n",
    "    return b0,b1\n",
    "\n",
    "            \n"
   ]
  },
  {
   "cell_type": "code",
   "execution_count": 25,
   "metadata": {},
   "outputs": [],
   "source": [
    "b1=2*np.random.random((X_train.shape[1],))  #here max curve is taken at random now at 0\n",
    "b0=5*np.random.random()\n",
    "loss=[]\n",
    "for i in range(100): #max iterations\n",
    "    err=error(y_train,X_train,b0,b1)\n",
    "    b0,b1=gradient_descent(y_train,X_train,b0,b1,learning_rate=0.1)\n",
    "    loss.append(err) "
   ]
  },
  {
   "cell_type": "code",
   "execution_count": 26,
   "metadata": {},
   "outputs": [
    {
     "name": "stdout",
     "output_type": "stream",
     "text": [
      "[array([3.59261427]), array([3.42023496]), array([3.25137692]), array([3.08607204]), array([2.92438998]), array([2.76645242]), array([2.61244993]), array([2.4626609]), array([2.31747068]), array([2.17738659]), array([2.04304138]), array([1.91517472]), array([1.79458137]), array([1.68202136]), array([1.57810298]), array([1.4831698]), array([1.39723294]), array([1.31997413]), array([1.25081326]), array([1.1890082]), array([1.13375222]), array([1.08424802]), array([1.03975356]), array([0.99960446]), array([0.96322027]), array([0.93010153]), array([0.89982218]), array([0.87202031]), array([0.84638889]), array([0.82266727]), array([0.80063366]), array([0.78009875]), array([0.76090038]), array([0.74289908]), array([0.72597435]), array([0.71002168]), array([0.69495002]), array([0.68067969]), array([0.6671407]), array([0.6542713]), array([0.64201682]), array([0.63032865]), array([0.61916346]), array([0.60848244]), array([0.59825074]), array([0.58843698]), array([0.57901281]), array([0.56995253]), array([0.56123279]), array([0.55283234]), array([0.54473176]), array([0.53691329]), array([0.52936063]), array([0.52205879]), array([0.51499398]), array([0.50815347]), array([0.50152546]), array([0.49509906]), array([0.48886415]), array([0.48281132]), array([0.47693181]), array([0.47121747]), array([0.46566066]), array([0.46025428]), array([0.45499164]), array([0.4498665]), array([0.44487299]), array([0.44000561]), array([0.43525915]), array([0.43062875]), array([0.4261098]), array([0.42169794]), array([0.41738909]), array([0.41317935]), array([0.40906506]), array([0.40504274]), array([0.40110908]), array([0.39726096]), array([0.3934954]), array([0.38980957]), array([0.38620079]), array([0.3826665]), array([0.37920426]), array([0.37581174]), array([0.37248673]), array([0.3692271]), array([0.36603084]), array([0.36289601]), array([0.35982076]), array([0.35680332]), array([0.353842]), array([0.35093517]), array([0.34808127]), array([0.34527881]), array([0.34252635]), array([0.33982252]), array([0.33716599]), array([0.33455549]), array([0.3319898]), array([0.32946773])]\n"
     ]
    }
   ],
   "source": [
    "print(loss)"
   ]
  },
  {
   "cell_type": "code",
   "execution_count": 27,
   "metadata": {},
   "outputs": [
    {
     "data": {
      "image/png": "[encoded data removed]",
      "text/plain": [
       "<Figure size 576x396 with 1 Axes>"
      ]
     },
     "metadata": {},
     "output_type": "display_data"
    }
   ],
   "source": [
    "plt.style.use('seaborn')\n",
    "plt.plot(loss)\n",
    "plt.show()"
   ]
  },
  {
   "cell_type": "markdown",
   "metadata": {},
   "source": [
    "WE CAN SEE FROM THE GRAPH THAT AS ITERATION INCREASES LOSS DECREASES AND AFTER SOME ITERATIONS IT BECOMES CONSTANT"
   ]
  },
  {
   "cell_type": "markdown",
   "metadata": {},
   "source": [
    "# predicting for test data"
   ]
  },
  {
   "cell_type": "code",
   "execution_count": 34,
   "metadata": {},
   "outputs": [],
   "source": [
    "Y_pred=hypothesis(X_test,b0,b1)\n",
    "for i in range(Y_pred.shape[0]):\n",
    "    if(Y_pred[i]>0.5):\n",
    "        Y_pred[i]=1\n",
    "    else:\n",
    "        Y_pred[i]=0\n",
    "Y_pred=pd.DataFrame(data=Y_pred,columns=[\"label\"])\n",
    "#Y_pred.to_csv('y_logistic_pred.csv',index=False)"
   ]
  },
  {
   "cell_type": "code",
   "execution_count": 29,
   "metadata": {},
   "outputs": [
    {
     "name": "stdout",
     "output_type": "stream",
     "text": [
      "[0.57117377]\n",
      "[-1.56062123  0.01908964 -0.93936291]\n"
     ]
    }
   ],
   "source": [
    "print(b0) \n",
    "print(b1)"
   ]
  },
  {
   "cell_type": "code",
   "execution_count": 38,
   "metadata": {},
   "outputs": [],
   "source": [
    "Y_pred=pd.DataFrame(data=Y_pred,columns=[\"label\"]) #converting both to dataframe to apply metrics\n",
    "Y_test=pd.DataFrame(data=y_test,columns=[\"label\"])"
   ]
  },
  {
   "cell_type": "markdown",
   "metadata": {},
   "source": [
    "# MODEL EVALUATION"
   ]
  },
  {
   "cell_type": "code",
   "execution_count": 39,
   "metadata": {},
   "outputs": [],
   "source": [
    "from sklearn import metrics\n",
    "confusion=metrics.confusion_matrix(Y_test,Y_pred)"
   ]
  },
  {
   "cell_type": "code",
   "execution_count": 40,
   "metadata": {},
   "outputs": [
    {
     "name": "stdout",
     "output_type": "stream",
     "text": [
      "[[403  51]\n",
      " [  1 445]]\n"
     ]
    }
   ],
   "source": [
    "print(confusion)"
   ]
  },
  {
   "cell_type": "code",
   "execution_count": null,
   "metadata": {},
   "outputs": [],
   "source": [
    "#                   pred_not_churn    pred_churn\n",
    " \n",
    "# actual_not_churn        403         51\n",
    "# actual_churn            1          445\n",
    "\n",
    "#this tells that 403 didnt churn and we also predicted the same\n",
    "#51 did not churn but we predicted that they churned\n",
    "#1 churn but we predited they dont churn\n",
    "#445 churned and we predicted the same"
   ]
  },
  {
   "cell_type": "code",
   "execution_count": 41,
   "metadata": {},
   "outputs": [
    {
     "data": {
      "text/plain": [
       "0.9422222222222222"
      ]
     },
     "execution_count": 41,
     "metadata": {},
     "output_type": "execute_result"
    }
   ],
   "source": [
    "metrics.accuracy_score(Y_test,Y_pred)"
   ]
  },
  {
   "cell_type": "markdown",
   "metadata": {},
   "source": [
    "tells us that what percentage of data correctly predicted here its 94%"
   ]
  },
  {
   "cell_type": "code",
   "execution_count": 42,
   "metadata": {},
   "outputs": [],
   "source": [
    "TP = confusion[0,0] # true positive \n",
    "TN = confusion[1,1] # true negatives\n",
    "FP = confusion[0,1] # false positives\n",
    "FN = confusion[1,0] # false negatives"
   ]
  },
  {
   "cell_type": "code",
   "execution_count": 43,
   "metadata": {},
   "outputs": [
    {
     "data": {
      "text/plain": [
       "0.9975247524752475"
      ]
     },
     "execution_count": 43,
     "metadata": {},
     "output_type": "execute_result"
    }
   ],
   "source": [
    "#sensitivity is proportions of yes/1/true correctly predicted by our model\n",
    "TP/float(TP+FN)"
   ]
  },
  {
   "cell_type": "markdown",
   "metadata": {},
   "source": [
    "it means we correctly predicted 1 for 99% of the data"
   ]
  },
  {
   "cell_type": "code",
   "execution_count": 45,
   "metadata": {},
   "outputs": [
    {
     "data": {
      "text/plain": [
       "0.8971774193548387"
      ]
     },
     "execution_count": 45,
     "metadata": {},
     "output_type": "execute_result"
    }
   ],
   "source": [
    "#specificity is proportions of no/0/false correctly predicted by our model\n",
    "TN / float(TN+FP)"
   ]
  },
  {
   "cell_type": "markdown",
   "metadata": {},
   "source": [
    "it means we correctly predicted 0 for 89% of the data"
   ]
  },
  {
   "cell_type": "code",
   "execution_count": 46,
   "metadata": {},
   "outputs": [],
   "source": [
    "def draw_roc( actual, probs ):\n",
    "    fpr, tpr, thresholds = metrics.roc_curve( actual, probs,\n",
    "                                              drop_intermediate = False )\n",
    "    auc_score = metrics.roc_auc_score( actual, probs )\n",
    "    plt.figure(figsize=(6, 4))\n",
    "    plt.plot( fpr, tpr, label='ROC curve (area = %0.2f)' % auc_score )\n",
    "    plt.plot([0, 1], [0, 1], 'k--')\n",
    "    plt.xlim([0.0, 1.0])\n",
    "    plt.ylim([0.0, 1.05])\n",
    "    plt.xlabel('False Positive Rate or [1 - True Negative Rate]')\n",
    "    plt.ylabel('True Positive Rate')\n",
    "    plt.title('Receiver operating characteristic example')\n",
    "    plt.legend(loc=\"lower right\")\n",
    "    plt.show()\n",
    "\n",
    "    return fpr, tpr, thresholds"
   ]
  },
  {
   "cell_type": "code",
   "execution_count": 47,
   "metadata": {},
   "outputs": [
    {
     "data": {
      "image/png": "[encoded data removed]",
      "text/plain": [
       "<Figure size 432x288 with 1 Axes>"
      ]
     },
     "metadata": {},
     "output_type": "display_data"
    },
    {
     "data": {
      "text/plain": [
       "(array([0.       , 0.1123348, 1.       ]),\n",
       " array([0.        , 0.99775785, 1.        ]),\n",
       " array([2., 1., 0.]))"
      ]
     },
     "execution_count": 47,
     "metadata": {},
     "output_type": "execute_result"
    }
   ],
   "source": [
    "draw_roc(Y_test,Y_pred)"
   ]
  },
  {
   "cell_type": "markdown",
   "metadata": {},
   "source": [
    "The point at top of triangle tells us about the model..\n",
    "it should be more close to top left corner 1 if model is good\n",
    "area 94 tells that 94% accuracy"
   ]
  }
 ],
 "metadata": {
  "kernelspec": {
   "display_name": "Python 3",
   "language": "python",
   "name": "python3"
  },
  "language_info": {
   "codemirror_mode": {
    "name": "ipython",
    "version": 3
   },
   "file_extension": ".py",
   "mimetype": "text/x-python",
   "name": "python",
   "nbconvert_exporter": "python",
   "pygments_lexer": "ipython3",
   "version": "3.7.4"
  }
 },
 "nbformat": 4,
 "nbformat_minor": 2
}
